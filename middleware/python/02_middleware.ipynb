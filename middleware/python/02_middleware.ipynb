{
 "cells": [
  {
   "cell_type": "markdown",
   "metadata": {},
   "source": [
    "# Welcome To Galapagos Middleware Tutorial"
   ]
  },
  {
   "cell_type": "markdown",
   "metadata": {},
   "source": [
    "Now that we have made our IP cores that are the building blocks of our cluster, we can use the middleware to describe our cluster and generate our vivado projects. We use a logical_file and a map_file to describe our cluster. "
   ]
  },
  {
   "cell_type": "markdown",
   "metadata": {},
   "source": [
    "We need the environment variables setup in our path again. This was done in bash last time, the following is python code to set the env as the same."
   ]
  },
  {
   "cell_type": "code",
   "execution_count": null,
   "metadata": {},
   "outputs": [],
   "source": [
    "import os\n",
    "\n",
    "os.environ['GALAPAGOS_PATH']='/home/user/galapagos'\n",
    "\n",
    "print(\"set GALAPAGOS_PATH\")"
   ]
  },
  {
   "cell_type": "markdown",
   "metadata": {},
   "source": [
    "The following is an example logical_file:"
   ]
  },
  {
   "cell_type": "code",
   "execution_count": null,
   "metadata": {},
   "outputs": [],
   "source": [
    "logical_file = {\n",
    "\t\"cluster\": {\n",
    "\t\t\"kernel\": [\n",
    "\t\t\t{\n",
    "\t\t\t\t\"num\": \"0\",\n",
    "\t\t\t\t\"rep\": \"1\",\n",
    "\t\t\t\t\"clk\": \"ap_clk\",\n",
    "\t\t\t\t\"aresetn\": \"ap_rst_n\",\n",
    "\t\t\t\t\"s_axis\": {\n",
    "\t\t\t\t\t\"scope\": \"global\",\n",
    "\t\t\t\t\t\"name\": \"in_r\"\n",
    "\t\t\t\t},\n",
    "\t\t\t\t\"m_axis\": {\n",
    "\t\t\t\t\t\"scope\": \"global\",\n",
    "\t\t\t\t\t\"name\": \"out_r\"\n",
    "\t\t\t\t},\n",
    "\t\t\t\t\"#text\": \"kern_send\"\n",
    "\t\t\t},\n",
    "\t\t\t{\n",
    "\t\t\t\t\"num\": \"1\",\n",
    "\t\t\t\t\"rep\": \"1\",\n",
    "\t\t\t\t\"clk\": \"ap_clk\",\n",
    "\t\t\t\t\"vendor\": \"xilinx.com\",\n",
    "\t\t\t\t\"lib\": \"hls\",\n",
    "\t\t\t\t\"aresetn\": \"ap_rst_n\",\n",
    "\t\t\t\t\"s_axis\": {\n",
    "\t\t\t\t\t\"scope\": \"global\",\n",
    "\t\t\t\t\t\"name\": \"in_r\"\n",
    "\t\t\t\t},\n",
    "\t\t\t\t\"m_axis\": {\n",
    "\t\t\t\t\t\"scope\": \"global\",\n",
    "\t\t\t\t\t\"name\": \"out_r\"\n",
    "\t\t\t\t},\n",
    "\t\t\t\t\"id_port\": \"id_V\",\n",
    "\t\t\t\t\"#text\": \"hls4ml_hcal\"\n",
    "\t\t\t}\n",
    "\t\t]\n",
    "\t}\n",
    "}\n",
    "\n",
    "\n",
    "print(\"...................Logical File...................\")\n",
    "for kern in logical_file['cluster']['kernel']:\n",
    "    print(kern)"
   ]
  },
  {
   "cell_type": "markdown",
   "metadata": {},
   "source": [
    "The above logical file describes two kernels within the cluster. \n",
    "\n",
    "The `<num>` field represents the kernel id of that specific kernel. Any other kernel when setting their dest to this number will send a packet to this kernel. <br/>\n",
    "The `<rep>` field represents the number of times to repeat this kernel within the cluster (on any device). <br/>\n",
    "The `<clk>` field represents the name of the port that is the clock port. <br/>\n",
    "The `<aresetn>` field represents the name of the reset n port.\n",
    "\n",
    "Next each kernel also has an `<s_axis>` which represents the galapagos stream in and the `<m_axis>` which represents the galpagos stream out.\n",
    "Each of these is set to a `\"scope\", \"global\"`. This allows these streams to be directly accessible by any other kernel in the global dest addressing scheme. We also can set extra `\"local\"` connections, which directly connects kernels together.\n",
    "\n",
    "The `<id_port>` refers to the name of the port that we wish to attach a constant representing the id of the kernel. This can be used internally to figure out the destinations of other kernels relative to your own id.\n",
    "\n",
    "The `<#text>` refers to the name of the kernel ip core.\n",
    "\n",
    "Below is an example of a map_file:"
   ]
  },
  {
   "cell_type": "code",
   "execution_count": null,
   "metadata": {},
   "outputs": [],
   "source": [
    "map_file = {\n",
    "\t\"cluster\": {\n",
    "\t\t\"node\": [\n",
    "\t\t\t{\n",
    "\t\t\t\t\"type\": \"sw\",\n",
    "\t\t\t\t\"kernel\": [\n",
    "\t\t\t\t\t\"0\"\n",
    "\t\t\t\t],\n",
    "\t\t\t\t\"mac\": \"0c:c4:7a:88:c0:47\",\n",
    "\t\t\t\t\"ip\": \"10.1.2.155\"\n",
    "\t\t\t},\n",
    "\t\t\t{\n",
    "\t\t\t\t\"board\": \"adm-8k5-debug\",\n",
    "\t\t\t\t\"comm\": \"tcp\",\n",
    "\t\t\t\t\"type\": \"hw\",\n",
    "\t\t\t\t\"kernel\": \"1\",\n",
    "\t\t\t\t\"mac\": \"fa:16:3e:55:ca:02\",\n",
    "\t\t\t\t\"ip\": \"10.1.2.156\"\n",
    "\t\t\t}\n",
    "\t\t]\n",
    "\t}\n",
    "}\n",
    "print(\"...................Map File...................\")\n",
    "for node in map_file['cluster']['node']:\n",
    "    print(node)"
   ]
  },
  {
   "cell_type": "markdown",
   "metadata": {},
   "source": [
    "The above map file describes two nodes within the cluster.\n",
    "\n",
    "The `<type>` field can be hardware or software. <br/>\n",
    "The `<kernel>` field can be a list or an individual kernel. This refers to the kernels by number in the logical file to be placed in this node. <br/>\n",
    "The `<mac>` field refers to the nodes L2 Mac address. <br/>\n",
    "The `<ip>` field refers to the nodes L3 IP Address. <br/>\n",
    "Currently the only off-chip communication support in software is TCP/IP. However if the node is a hardware node we can specify the `<comm>` field which denotes the off-chip communication protocol to be used. <br/>\n",
    "Furthermore if the node is a hardware node, the `<board>` denotes the type of board this node is. <br/>\n",
    "\n",
    "Next we will generate the script files to build our vivado projects using the logical and map file."
   ]
  },
  {
   "cell_type": "code",
   "execution_count": null,
   "metadata": {},
   "outputs": [],
   "source": [
    "import os\n",
    "from cluster import cluster\n",
    "\n",
    "project_name = \"middleware_test\"\n",
    "path = str(os.environ.get('GALAPAGOS_PATH'))+ \"/projects\"\n",
    "\n",
    "cluster_inst = cluster(project_name, logical_file, map_file, mode='dict')\n",
    "cluster_inst.makeProjectClusterScript(path)\n",
    "cluster_inst.writeClusterTCL(path, 0)\n",
    "cluster_inst.writeBRAMFile(path, 'mac')\n",
    "cluster_inst.writeBRAMFile(path, 'ip')\n",
    "\n",
    "print(\"Created cluster generation script at \" + path + \"/\" + project_name + \"/createCluster.sh\")"
   ]
  },
  {
   "cell_type": "markdown",
   "metadata": {},
   "source": [
    "This will create a cluster in `<galapagos_home>/projects/middleware_test` as we set `middleware_test` as the `project_name`.\n",
    "However we are not yet ready to create the project as the scripts assume all the IP cores are ready to use. The following is the final step in building your project. <a href='http://127.0.0.1:9000/notebooks/03_building_the_project.ipynb'> Building Your Project </a>"
   ]
  }
 ],
 "metadata": {
  "kernelspec": {
   "display_name": "Python 3",
   "language": "python",
   "name": "python3"
  },
  "language_info": {
   "codemirror_mode": {
    "name": "ipython",
    "version": 3
   },
   "file_extension": ".py",
   "mimetype": "text/x-python",
   "name": "python",
   "nbconvert_exporter": "python",
   "pygments_lexer": "ipython3",
   "version": "3.5.2"
  }
 },
 "nbformat": 4,
 "nbformat_minor": 2
}
