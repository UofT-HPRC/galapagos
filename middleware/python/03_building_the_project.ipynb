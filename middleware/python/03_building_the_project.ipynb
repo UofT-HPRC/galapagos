{
 "cells": [
  {
   "cell_type": "markdown",
   "metadata": {},
   "source": [
    "# Building Your Projects\n",
    "\n",
    "To make your final project navigate to `<galapagos_home>/projects/middleware_test`\n",
    "\n",
    "`source createCluster.sh`\n",
    "\n",
    "This will build all the vivado projects. You can run it below, but it is highly recommended you run this in your own terminal as this is a long running process."
   ]
  },
  {
   "cell_type": "code",
   "execution_count": null,
   "metadata": {},
   "outputs": [],
   "source": [
    "galapagos_path=/home/user/galapagos\n",
    "vivado_version=2018.1\n",
    "hls_version=2018.1\n",
    "galapagos_board=adm-8k5-debug\n",
    "vivado_path=/opt/Xilinx/Vivado\n",
    "hls_path=/opt/Xilinx/Vivado\n",
    "project_name=middleware_test\n",
    "\n",
    "source /home/user/.license.sh\n",
    "source $galapagos_path/init.sh $galapagos_path $vivado_path $hls_path $vivado_version $hls_version\n",
    "galapagos-update-board $galapagos_board\n",
    "\n",
    "\n",
    "cd $GALAPAGOS_PATH/projects/$project_name\n",
    "source createCluster.sh"
   ]
  }
 ],
 "metadata": {
  "kernelspec": {
   "display_name": "Bash",
   "language": "bash",
   "name": "bash"
  },
  "language_info": {
   "codemirror_mode": "shell",
   "file_extension": ".sh",
   "mimetype": "text/x-sh",
   "name": "bash"
  }
 },
 "nbformat": 4,
 "nbformat_minor": 2
}
