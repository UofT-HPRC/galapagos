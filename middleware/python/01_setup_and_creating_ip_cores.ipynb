{
 "cells": [
  {
   "cell_type": "markdown",
   "metadata": {},
   "source": [
    "# Welcome To The Galapagos Setup"
   ]
  },
  {
   "cell_type": "markdown",
   "metadata": {},
   "source": [
    "The Galapagos Middleware presents an orchestration framework to create multi-FPGA and CPU networks and can be built on top of any device that has a Galapagos Hypervisor."
   ]
  },
  {
   "cell_type": "markdown",
   "metadata": {},
   "source": [
    "<a id='own_example'></a>\n",
    "\n",
    "# Setup\n",
    "\n",
    "## Setup Environment Variables\n",
    "\n",
    "The following cells follow the initial setup. The first sets up the environment variables needed by the scripts below."
   ]
  },
  {
   "cell_type": "code",
   "execution_count": null,
   "metadata": {},
   "outputs": [],
   "source": [
    "galapagos_path=/home/user/galapagos\n",
    "cd $galapagos_path\n",
    "\n",
    "vivado_version=2018.1\n",
    "hls_version=2018.1\n",
    "galapagos_board=adm-8k5-debug\n",
    "vivado_path=/opt/Xilinx/Vivado\n",
    "hls_path=/opt/Xilinx/Vivado\n",
    "\n",
    "source init.sh $galapagos_path $vivado_path $hls_path $vivado_version $hls_version\n",
    "galapagos-update-board $galapagos_board\n",
    "export XILINX_VIVADO=$GALAPAGOS_VIVADO_PATH"
   ]
  },
  {
   "cell_type": "markdown",
   "metadata": {},
   "source": [
    "## Make Middleware IP\n",
    "\n",
    "\n",
    "Next we need to build the IP cores used by the middleware layer to connect different Galapagos objects\n",
    "\n",
    "The middleware IP cores are shown in the following figure:\n",
    "\n",
    "<img style=\"float: left;\" src=\"fig/middleware_ip.png\"/>  "
   ]
  },
  {
   "cell_type": "code",
   "execution_count": null,
   "metadata": {},
   "outputs": [],
   "source": [
    "cd $GALAPAGOS_PATH\n",
    "make hlsmiddleware  "
   ]
  },
  {
   "cell_type": "markdown",
   "metadata": {},
   "source": [
    "The previous section makes the router blocks, and two network bridges. One network bridge translates TCP/IP packets into Galapagos packets, and another network bridge translates L2 ethernet packets into Galapagos packets.\n",
    "The user can select in their cluster description map file their choice of off-chip network communication."
   ]
  },
  {
   "cell_type": "markdown",
   "metadata": {},
   "source": [
    "## Compiling User Kernels (Hardware) \n",
    "\n",
    "To create a user kernel it is very similar to that of creating the hlsmiddleware in the previous section.\n",
    "In the following we have an example.\n",
    "\n",
    "First we set the board we wish to target:"
   ]
  },
  {
   "cell_type": "code",
   "execution_count": null,
   "metadata": {},
   "outputs": [],
   "source": [
    "galapagos-update-board adm-8k5-debug"
   ]
  },
  {
   "cell_type": "markdown",
   "metadata": {},
   "source": [
    "To compile hardware kernels we need to include the Galapagos hardware library found in `<galapagos_home>/middleware/include`\n",
    "\n",
    "The following is the tcl_script that compiles the hardware kernel:\n",
    "\n",
    "```tcl\n",
    "set galapagos_path $::env(GALAPAGOS_PATH)\n",
    "set board_name $::env(GALAPAGOS_BOARD_NAME)\n",
    "set part_name $::env(GALAPAGOS_PART)\n",
    "set src_path_root [pwd] \n",
    "\n",
    "cd $galapagos_path/hlsBuild/${board_name}/ip\n",
    "\n",
    "open_project hls4ml_hcal\n",
    "set_top hls4ml_hcal\n",
    "open_solution \"solution1\"\n",
    "set_part ${part_name}\n",
    "add_files $src_path_root/ereg_v1.cpp\n",
    "add_files $src_path_root/hls4ml_hcal.cpp -cflags \"-I $galapagos_path/middleware/include -I $src_path_root -I $src_path_root/weights -I $src_path_root/nnet_utils\"\n",
    "create_clock -period 250MHz -name default\n",
    "config_interface -expose_global\n",
    "csynth_design\n",
    "export_design -format ip_catalog\n",
    "close_project\n",
    "\n",
    "quit\n",
    "\n",
    "```\n",
    "\n",
    "The key things to note is that the board name, parth and galapagos_path are all taken from environment variables that was set up earlier. Second thing to note is the inclusion of our middleware library.\n",
    "\n",
    "\n",
    "This kernel is made with our Makefile (that calls the included tcl script) in the following code block:"
   ]
  },
  {
   "cell_type": "code",
   "execution_count": null,
   "metadata": {},
   "outputs": [],
   "source": [
    "cd /home/user/HCAL_HLS4ML\n",
    "make hls"
   ]
  },
  {
   "cell_type": "markdown",
   "metadata": {},
   "source": [
    "This will place the generated IP cores in `<galapagos_home>/hlsBuild/<board_name>/ip`. Here we can see all the IP cores that we have created for this board. This includes the middleware IP cores and the User IP cores"
   ]
  },
  {
   "cell_type": "code",
   "execution_count": null,
   "metadata": {},
   "outputs": [],
   "source": [
    "cd $GALAPAGOS_PATH/hlsBuild/$GALAPAGOS_BOARD_NAME/ip\n",
    "ls"
   ]
  },
  {
   "cell_type": "markdown",
   "metadata": {},
   "source": [
    "Now that we have created our IP cores, we can describe them in a cluster and stitch them together. <a href='http://127.0.0.1:9000/notebooks/02_middleware.ipynb'>Using the Middleware'</a>"
   ]
  },
  {
   "cell_type": "markdown",
   "metadata": {},
   "source": [
    "## Compiling User Kernels (Software)\n",
    "\n",
    "Hardware and software kernels have the same code structure (HLS code). However the compilation process is slightly different. To compile software we have to include the Galapagos library found in: `<galapagos_home>/middleware/CPP_lib/Galapagos_lib`\n",
    "\n",
    "This is compiled using our Makefile in the following code block:"
   ]
  },
  {
   "cell_type": "code",
   "execution_count": null,
   "metadata": {},
   "outputs": [],
   "source": [
    "cd /home/user/HCAL_HLS4ML\n",
    "make heterogeneous_node.exe"
   ]
  },
  {
   "cell_type": "markdown",
   "metadata": {},
   "source": [
    "## Example Galapagos Kernel\n",
    "\n",
    "Since both hardware and software kernels look the same we can investigate both kernels with one example. The following is a code example of a sample kernel:\n",
    "\n",
    "```cpp\n",
    "void kern_send(short id, galapagos_stream * in, galapagos_stream  * out)\n",
    "{\n",
    "#pragma HLS INTERFACE ap_ctrl_none port=return\n",
    "#pragma HLS INTERFACE axis register both port=out\n",
    "#pragma HLS INTERFACE axis register both port=in\n",
    "\n",
    "    int num_flits = STREAMSIZE*N_INPUTS;\n",
    "\n",
    "    galapagos_stream_packet gp;\n",
    "    gp.id = id;\n",
    "\n",
    "    #include \"inputs_demo.h\"\n",
    "\n",
    "\n",
    "    for(int j=0; j<num_flits; j++){\n",
    "        gp.dest = 1; // FIRST\n",
    "        gp.data = 0;\n",
    "        (gp.data)(31,0) = input_vals[j];\n",
    "        if(j==(num_flits -1))\n",
    "            gp.last = 1;\n",
    "        else\n",
    "            gp.last = 0;\n",
    "        out->write(gp);\n",
    "    }   \n",
    "\n",
    "\n",
    "    num_flits = STREAMSIZE*N_OUTPUTS;\n",
    "\n",
    "\n",
    "    for(int j=0; j<num_flits; j++){\n",
    "        gp = in->read();\n",
    "    }\n",
    "}\n",
    "\n",
    "```\n",
    "\n",
    "### Interfaces\n",
    "\n",
    "All kernels have 3 interfaces <br/>\n",
    "1. ID: This is the id of the kernel. If another kernel specifies the dest field of an outgoing packet with this ID then this kernel will receive it in the in stream.\n",
    "2. In: This is the input galapagos_stream. \n",
    "3. Out: This is the output galapagos_stream\n",
    "\n",
    "At the very beginning there are three interface pragma. This is ignored by gcc if compiling for software.\n",
    "\n",
    "\n",
    "### Program Behaviour\n",
    "\n",
    "This program first writes in a loop of flits to dest of 1. It produces one packet with `<num_flits>` flits. The end of the packet is signified by the raising of the last signal.\n",
    "\n",
    "Then the program waits to receive one multi-flit packet at the end of the program. Both reading and writing of these streams are blocking calls."
   ]
  }
 ],
 "metadata": {
  "kernelspec": {
   "display_name": "Bash",
   "language": "bash",
   "name": "bash"
  },
  "language_info": {
   "codemirror_mode": "shell",
   "file_extension": ".sh",
   "mimetype": "text/x-sh",
   "name": "bash"
  }
 },
 "nbformat": 4,
 "nbformat_minor": 2
}
