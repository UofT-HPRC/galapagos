{
 "cells": [
  {
   "cell_type": "markdown",
   "metadata": {},
   "source": [
    "# Welcome To Galapagos Tutorial"
   ]
  },
  {
   "cell_type": "markdown",
   "metadata": {},
   "source": [
    "The Galapagos Middleware presents an orchestration framework to create multi-FPGA and CPU networks and can be built on top of any device that has a Galapagos Hypervisor."
   ]
  },
  {
   "cell_type": "markdown",
   "metadata": {},
   "source": [
    "\n",
    "## Galapagos Hypervisor \n",
    "\n",
    "The following few cells provide an overview of the Galapagos Hypervisor and Middleware\n",
    "If you would like to go straight into building your own kernels you can jump to section <a href='http://127.0.0.1:9000/notebooks/01_setup_and_creating_ip_cores.ipynb'>Setup and Creating IP Cores'</a>\n",
    "\n",
    "\n",
    "### Hypervisor Overview\n",
    "\n",
    "The Middleware places Galapagos streaming kernels onto multiple streaming devices. \n",
    "A Galapagos streaming devices, includes devices that currently have a Galapagos Hypervisor built for it.\n",
    "A Galapagos hypervisor abstracts the device as a streaming device.\n",
    "\n",
    "The following are two shells of two different FPGA Boards we have:\n",
    "\n",
    "\n",
    "<img style=\"float: left;\" src=\"fig/7v3_shell.png\"/>          <img style=\"float: left;\" src=\"fig/mpsoc_shell.png\"/>"
   ]
  },
  {
   "cell_type": "markdown",
   "metadata": {},
   "source": [
    "The turqouise part of these hypervisors is where the user application will sit. Note that even though the network and memory interfaces on these boards are different, through the hypervisor the user interacts with both of these devices through the same interfaces.\n",
    "\n",
    "This principle is also applied to a CPU interface in the following shell:\n",
    "\n",
    "<img style=\"float: left;\" src=\"fig/cpu_shell.png\"/> "
   ]
  },
  {
   "cell_type": "markdown",
   "metadata": {},
   "source": [
    "As you can see across all three shells we have consistent interfaces. This allows us to have portability across different kernels across different boards as well as functional portability between hardware and software.    "
   ]
  },
  {
   "cell_type": "markdown",
   "metadata": {},
   "source": [
    "## Galapagos Middleware\n",
    "\n",
    "The middleware places kernels (software and hardware) onto multiple Galapagos devices described in the Galapagos Hypervisor section. A kernel can be visually represented as the following:\n",
    "\n",
    "<img style=\"float: left;\" src=\"fig/kernel.png\"/>   "
   ]
  },
  {
   "cell_type": "markdown",
   "metadata": {},
   "source": [
    "Each kernel has a galapagos-stream in and a galapagos-stream out. This is a specific implementation of the AXI-Stream protocol. Each galapagos-stream has a dest and an id field, the dest specifies the target kernel and the id references the source of the packet. Any kernel within the cluster can reference any other kernel by specifiying the kernel destination in the dest field. This destination is independent of the actual physical mapping of the kernel.\n",
    "This notion can be represented through a logical description and a mapping, with the use of these descriptions we can transform a logical cluster into a physical cluster.\n",
    "\n",
    "The following is a pictoral example: \n",
    "\n",
    "<img style=\"float: left;\" src=\"fig/logical_to_physical.png\"/> \n"
   ]
  }
 ],
 "metadata": {
  "kernelspec": {
   "display_name": "Python 3",
   "language": "python",
   "name": "python3"
  },
  "language_info": {
   "codemirror_mode": {
    "name": "ipython",
    "version": 3
   },
   "file_extension": ".py",
   "mimetype": "text/x-python",
   "name": "python",
   "nbconvert_exporter": "python",
   "pygments_lexer": "ipython3",
   "version": "3.5.2"
  }
 },
 "nbformat": 4,
 "nbformat_minor": 2
}
